{
 "cells": [
  {
   "cell_type": "code",
   "execution_count": 1,
   "id": "e2b2a595-6d8a-44f5-bb00-abca61c2b43e",
   "metadata": {},
   "outputs": [],
   "source": [
    "import matplotlib.pyplot as plt\n",
    "import numpy as np\n",
    "from sklearn.mixture import GaussianMixture\n",
    "import joblib\n",
    "from tqdm import tqdm\n",
    "import pandas as pd\n",
    "import argparse\n",
    "import os"
   ]
  },
  {
   "cell_type": "code",
   "execution_count": 12,
   "id": "4bf9a29f-410e-409f-a584-22e095f32fe8",
   "metadata": {},
   "outputs": [],
   "source": [
    "from main import weighted_l2, decode, PSNR, plot_data, load_ecg, load_train_ecg, load_test_ecg, create_pulse\n",
    "max_signal_length = 100 # used in load_train_ecg and load_test_ecg to keep an integer multiple of patch_size number of samples  "
   ]
  },
  {
   "cell_type": "code",
   "execution_count": 11,
   "id": "de7800b7-5a64-4546-a11b-2c8098d1ee12",
   "metadata": {},
   "outputs": [],
   "source": [
    "# default values\n",
    "# cnt is the number of plots to be saved for each (n_components, n_train, patch_size) tuple \n",
    "n_train, n_test, n_components, cnt = 10000, 1000, 10, 5\n",
    "n_init, d, to_train, use_mat = 5, 60, True, False # d is the patch size\n",
    "\n",
    "# for pulse\n",
    "num_peaks = d//10\n",
    "peak_width = 10\n",
    "\n",
    "folder_name = 'results/n_components=%d,n_train=%d,patch_size=%d/' % (n_components, n_train, d)"
   ]
  },
  {
   "cell_type": "code",
   "execution_count": 7,
   "id": "a58af8d3-c94e-4b56-8a18-b3808d69535a",
   "metadata": {},
   "outputs": [
    {
     "name": "stdout",
     "output_type": "stream",
     "text": [
      "(10000, 60)\n",
      "Initialization 0\n",
      "  Iteration 10\n",
      "  Iteration 20\n",
      "  Iteration 30\n",
      "Initialization converged: True\n",
      "Initialization 1\n",
      "  Iteration 10\n",
      "  Iteration 20\n",
      "  Iteration 30\n",
      "  Iteration 40\n",
      "  Iteration 50\n",
      "Initialization converged: True\n",
      "Initialization 2\n",
      "  Iteration 10\n",
      "  Iteration 20\n",
      "  Iteration 30\n",
      "  Iteration 40\n",
      "  Iteration 50\n",
      "  Iteration 60\n",
      "  Iteration 70\n",
      "Initialization converged: True\n",
      "Initialization 3\n",
      "  Iteration 10\n",
      "  Iteration 20\n",
      "  Iteration 30\n",
      "  Iteration 40\n",
      "  Iteration 50\n",
      "Initialization converged: True\n",
      "Initialization 4\n",
      "  Iteration 10\n",
      "  Iteration 20\n",
      "  Iteration 30\n",
      "  Iteration 40\n",
      "  Iteration 50\n",
      "Initialization converged: True\n"
     ]
    }
   ],
   "source": [
    "# training\n",
    "train_data = load_train_ecg(num = n_train, patch_size = d)\n",
    "print(train_data.shape)\n",
    "\n",
    "if to_train:\n",
    "    model = GaussianMixture(n_components=n_components, n_init=n_init, verbose=1, max_iter=200, init_params='random')\n",
    "    model.fit(train_data)\n",
    "\n",
    "    if os.path.isdir(folder_name):\n",
    "        for f in os.listdir(folder_name):\n",
    "            if not os.path.isdir(folder_name + f):\n",
    "                os.remove(folder_name + f)\n",
    "    else:\n",
    "        os.makedirs(folder_name)\n",
    "\n",
    "    # Save the model as a pickle in a file\n",
    "    joblib.dump(model, folder_name + 'model.pkl')\n",
    "\n",
    "else:\n",
    "    # Load the model from the file\n",
    "    model = joblib.load(folder_name + 'model.pkl')"
   ]
  },
  {
   "cell_type": "code",
   "execution_count": null,
   "id": "ad4dd970-0226-4c40-907e-a74eda1e2e39",
   "metadata": {},
   "outputs": [],
   "source": []
  }
 ],
 "metadata": {
  "kernelspec": {
   "display_name": "Python 3 (ipykernel)",
   "language": "python",
   "name": "python3"
  },
  "language_info": {
   "codemirror_mode": {
    "name": "ipython",
    "version": 3
   },
   "file_extension": ".py",
   "mimetype": "text/x-python",
   "name": "python",
   "nbconvert_exporter": "python",
   "pygments_lexer": "ipython3",
   "version": "3.8.10"
  }
 },
 "nbformat": 4,
 "nbformat_minor": 5
}
