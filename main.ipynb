{
 "cells": [
  {
   "cell_type": "code",
   "execution_count": 1,
   "id": "e2b2a595-6d8a-44f5-bb00-abca61c2b43e",
   "metadata": {},
   "outputs": [],
   "source": [
    "import matplotlib.pyplot as plt\n",
    "import numpy as np\n",
    "from sklearn.mixture import GaussianMixture\n",
    "import joblib\n",
    "from tqdm import tqdm\n",
    "import pandas as pd\n",
    "import argparse\n",
    "import os\n",
    "from scipy.stats import ortho_group"
   ]
  },
  {
   "cell_type": "code",
   "execution_count": 2,
   "id": "4bf9a29f-410e-409f-a584-22e095f32fe8",
   "metadata": {},
   "outputs": [],
   "source": [
    "from main import weighted_l2, decode, PSNR, plot_data, load_ecg, load_train_ecg, load_test_ecg, create_pulse\n",
    "max_signal_length = 100 # used in load_train_ecg and load_test_ecg to keep an integer multiple of patch_size number of samples  "
   ]
  },
  {
   "cell_type": "code",
   "execution_count": 3,
   "id": "de7800b7-5a64-4546-a11b-2c8098d1ee12",
   "metadata": {},
   "outputs": [],
   "source": [
    "# default values\n",
    "# cnt is the number of plots to be saved for each (n_components, n_train, patch_size) tuple \n",
    "n_train, n_test, n_components, cnt = 10000, 1000, 5, 5\n",
    "n_init, d, to_train, use_mat = 5, 30, True, False # d is the patch size\n",
    "\n",
    "# for pulse\n",
    "num_peaks = d//10\n",
    "peak_width = 10\n",
    "\n",
    "folder_name = 'results/n_components=%d,n_train=%d,patch_size=%d/' % (n_components, n_train, d)"
   ]
  },
  {
   "cell_type": "code",
   "execution_count": 9,
   "id": "d277b470-1f6f-4234-a536-5952f8bfa975",
   "metadata": {},
   "outputs": [],
   "source": [
    "def generate_covariance_matrices(n_components, d):\n",
    "    ans = []\n",
    "    for i in range(n_components):\n",
    "        # k = (d//3) * 2 # something lesser than d\n",
    "        # W = np.random.rand(d,k)\n",
    "        # S = (W @ W.transpose()) + np.diag(np.random.rand(1,d) * 0.01)\n",
    "        # S = np.diag(1/np.sqrt(np.diag(S))) @ S @ np.diag(1/np.sqrt(np.diag(S)))\n",
    "        # ans.append(S)\n",
    "        Q = ortho_group.rvs(d)\n",
    "        decay = 0.4*(1 + np.random.random())\n",
    "        eps = 1e-8\n",
    "        U = np.ones(d,) * (np.random.rand() * 20) + 400\n",
    "        for j in range(1,d):\n",
    "            U[j] = max((U[j-1] * decay) + (np.random.rand() * 0.01), eps)\n",
    "        ans.append(Q @ np.diag(U) @ Q.transpose())\n",
    "    return np.array(ans)"
   ]
  },
  {
   "cell_type": "code",
   "execution_count": 10,
   "id": "e38efcf6-b078-4be8-9800-918b7e7ecfbb",
   "metadata": {},
   "outputs": [],
   "source": [
    "gen_model = GaussianMixture(n_components=n_components, n_init=n_init, verbose=1, max_iter=200, init_params='random')\n",
    "# suppose we are training on n dimensional data\n",
    "\n",
    "gen_model.weights_ = np.random.rand(n_components,)\n",
    "gen_model.weights_ /= np.sum(gen_model.weights_)\n",
    "\n",
    "gen_model.means_ = np.random.rand(n_components, d) * 100\n",
    "gen_model.covariances_ = generate_covariance_matrices(n_components, d)"
   ]
  },
  {
   "cell_type": "code",
   "execution_count": 11,
   "id": "b7239799-7a65-41a9-acf3-2ebbf457985b",
   "metadata": {},
   "outputs": [
    {
     "name": "stdout",
     "output_type": "stream",
     "text": [
      "[0.00809015 0.18247147 0.19065366 0.29626916 0.32251556]\n",
      "(5,)\n",
      "(5, 30)\n",
      "(5, 30, 30)\n"
     ]
    },
    {
     "data": {
      "image/png": "[encoded data removed]",
      "text/plain": [
       "<Figure size 432x288 with 1 Axes>"
      ]
     },
     "metadata": {
      "needs_background": "light"
     },
     "output_type": "display_data"
    }
   ],
   "source": [
    "print(gen_model.weights_) # check if no single component gets majority of the weight \n",
    "print(gen_model.weights_.shape)\n",
    "print(gen_model.means_.shape)\n",
    "print(gen_model.covariances_.shape)\n",
    "\n",
    "# sanity check of covariance matrix\n",
    "for i in range(n_components):\n",
    "    # asserting checks if matrix is positive definite\n",
    "    assert(np.linalg.det(gen_model.covariances_[i,:,:]) > 0)\n",
    "    plt.plot(np.linalg.eigvalsh(gen_model.covariances_[i,:,:]))\n",
    "    \n",
    "plt.show()"
   ]
  },
  {
   "cell_type": "code",
   "execution_count": 12,
   "id": "2b7063c0-2805-469c-a428-b4edac9d6018",
   "metadata": {},
   "outputs": [
    {
     "data": {
      "text/plain": [
       "(10000, 30)"
      ]
     },
     "execution_count": 12,
     "metadata": {},
     "output_type": "execute_result"
    }
   ],
   "source": [
    "train_data,_ = gen_model.sample(n_train)\n",
    "train_data.shape"
   ]
  },
  {
   "cell_type": "code",
   "execution_count": 19,
   "id": "5e62e74d-bcfa-4a62-ba4a-b4ec3147098b",
   "metadata": {},
   "outputs": [
    {
     "name": "stdout",
     "output_type": "stream",
     "text": [
      "Initialization 0\n",
      "Initialization converged: True\n",
      "Initialization 1\n",
      "Initialization converged: True\n",
      "Initialization 2\n",
      "  Iteration 10\n",
      "Initialization converged: True\n",
      "Initialization 3\n",
      "Initialization converged: True\n",
      "Initialization 4\n",
      "Initialization converged: True\n"
     ]
    },
    {
     "data": {
      "text/plain": [
       "['results/n_components=5,n_train=10000,patch_size=30/model.pkl']"
      ]
     },
     "execution_count": 19,
     "metadata": {},
     "output_type": "execute_result"
    }
   ],
   "source": [
    "# here one assumption is that we know the number of components, however this will have to be varied\n",
    "model = GaussianMixture(n_components=n_components, n_init=n_init, verbose=1, max_iter=200, init_params='random')\n",
    "model.fit(train_data)\n",
    "\n",
    "if os.path.isdir(folder_name):\n",
    "    for f in os.listdir(folder_name):\n",
    "        if not os.path.isdir(folder_name + f):\n",
    "            os.remove(folder_name + f)\n",
    "else:\n",
    "    os.makedirs(folder_name)\n",
    "\n",
    "# Save the model as a pickle in a file\n",
    "joblib.dump(model, folder_name + 'model.pkl')"
   ]
  },
  {
   "cell_type": "code",
   "execution_count": 20,
   "id": "420e6bd1-2d9b-45eb-9ae7-04e390f5d686",
   "metadata": {},
   "outputs": [
    {
     "name": "stderr",
     "output_type": "stream",
     "text": [
      "100%|██████████| 10/10 [01:02<00:00,  6.27s/it]\n"
     ]
    },
    {
     "name": "stdout",
     "output_type": "stream",
     "text": [
      "[32.2127923299428, 38.365599436949196, 44.52063371322275, 48.52886181476594, 54.09330711244032, 56.63426100435408, 58.08346049260782, 61.49498232797869, 63.42420694231119, 66.54284898911757]\n",
      "[7.005125593811368, 5.142207724895865, 6.171169040082427, 5.7657876045156, 5.493996508345562, 4.825253563987709, 4.658129616888297, 4.390710934267726, 4.302929498479338, 4.139353150751863]\n",
      "[81629.8856685134, 3298.837978900171, 2790.8121193092034, 611.2331913852847, 151.82520252740747, 114.11001384913067, 46.09775735109736, 18.18646944765036, 14.39383754565475, 5.3978893598880875]\n",
      "[263318.4355560092, 10444.494372695324, 6530.438963150592, 1218.2123425521102, 676.5283964407395, 837.1408134210693, 246.57118028584134, 72.12963968513621, 66.24164378715348, 20.045360239414226]\n"
     ]
    }
   ],
   "source": [
    "test_data,_ = gen_model.sample(n_test)\n",
    "A_ = np.random.binomial(1, 0.5, size=(d, d))\n",
    "\n",
    "ms = [d*(i+1)//10 for i in range(10)]\n",
    "psnr, psnr_min, psnr_max, psnr_std = [], [], [], []\n",
    "val_err, err_std = [], []\n",
    "\n",
    "for m in tqdm(ms):\n",
    "    if use_mat:\n",
    "        A = np.load(folder_name + 'mat/%d.npy' % m)\n",
    "    else:\n",
    "        A = A_[:m, :]\n",
    "    mm = (m*4)//5\n",
    "    reconstruction = np.empty(test_data.shape)\n",
    "    patch_err = []\n",
    "    cnt1 = cnt\n",
    "    for j in range(len(test_data)):\n",
    "        x = test_data[j]\n",
    "        x_hat = np.zeros(x.shape)\n",
    "        for i in range(x.shape[0]//d):\n",
    "            y = A @ x[i*d:(i+1)*d]\n",
    "            x_hat[i*d:(i+1)*d] = decode(model, A[:mm], y[:mm])\n",
    "            patch_err.append(100*np.mean(np.square(y[mm:] - A[mm:] @ x_hat[i*d:(i+1)*d])))\n",
    "        # cs example\n",
    "        if cnt1 > 0:\n",
    "            plt.plot(x, label='Original', color = \"C0\")\n",
    "            plt.plot(x_hat, label='Reconstructed', color = \"C1\")\n",
    "            plt.legend()\n",
    "            plt.savefig(folder_name + 'cs_%d_%d.png' % (cnt1, mm))\n",
    "            plt.close()\n",
    "            cnt1 -= 1\n",
    "        reconstruction[j] = x_hat\n",
    "    val, min_val, max_val, std_val = PSNR(test_data, reconstruction)\n",
    "    psnr.append(val)\n",
    "    psnr_min.append(min_val)\n",
    "    psnr_max.append(max_val)\n",
    "    psnr_std.append(std_val)\n",
    "    val_err.append(np.mean(patch_err))\n",
    "    err_std.append(np.std(patch_err))\n",
    "\n",
    "print(psnr)\n",
    "print(psnr_std)\n",
    "print(val_err)\n",
    "print(err_std)\n",
    "plot_data([x//5*4 for x in ms], psnr, path=folder_name + 'psnr.png')\n",
    "plot_data([x//5*4 for x in ms], val_err, path=folder_name + 'val_err.png', ylabel='Validation error (1e-2)')"
   ]
  }
 ],
 "metadata": {
  "kernelspec": {
   "display_name": "Python 3 (ipykernel)",
   "language": "python",
   "name": "python3"
  },
  "language_info": {
   "codemirror_mode": {
    "name": "ipython",
    "version": 3
   },
   "file_extension": ".py",
   "mimetype": "text/x-python",
   "name": "python",
   "nbconvert_exporter": "python",
   "pygments_lexer": "ipython3",
   "version": "3.8.10"
  },
  "vscode": {
   "interpreter": {
    "hash": "916dbcbb3f70747c44a77c7bcd40155683ae19c65e1c03b4aa3499c5328201f1"
   }
  }
 },
 "nbformat": 4,
 "nbformat_minor": 5
}
