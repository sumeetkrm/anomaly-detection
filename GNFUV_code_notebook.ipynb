{
 "cells": [
  {
   "cell_type": "code",
   "execution_count": 1,
   "id": "e198fdb7",
   "metadata": {},
   "outputs": [],
   "source": [
    "import matplotlib.pyplot as plt\n",
    "import numpy as np\n",
    "from sklearn.mixture import GaussianMixture\n",
    "import joblib\n",
    "from tqdm import tqdm\n",
    "import pandas as pd\n",
    "import argparse\n",
    "import os\n",
    "import pandas "
   ]
  },
  {
   "cell_type": "code",
   "execution_count": 2,
   "id": "40a3fb03",
   "metadata": {},
   "outputs": [],
   "source": [
    "\n",
    "def weighted_l2(v, mat):\n",
    "    if np.linalg.matrix_rank(mat) < mat.shape[0]:\n",
    "        m = v.T @ np.linalg.pinv(mat) @ v\n",
    "    else:\n",
    "        # print(\"hi \", np.linalg.det(mat), np.linalg.matrix_rank(mat))\n",
    "        m = v.T @ np.linalg.inv(mat) @ v\n",
    "    return m\n",
    "\n",
    "def decode(model, A, y, sigma = 1e-7):\n",
    "    x_hat = np.empty(model.means_.shape)\n",
    "    cost = []\n",
    "    var_noise = sigma * np.eye(A.shape[0])\n",
    "\n",
    "    for j in range(model.means_.shape[0]):\n",
    "        var_j, mu_j = model.covariances_[j], model.means_[j]\n",
    "        x_hat_j = var_j @ A.T @ np.linalg.inv(A @ var_j @ A.T + var_noise) @ (y - A @ mu_j) + mu_j\n",
    "        # print(np.linalg.det(var_j))\n",
    "        # print(var_j)\n",
    "        try:\n",
    "            cost_j = weighted_l2(y - A @ x_hat_j, var_noise) + weighted_l2(x_hat_j - mu_j, var_j) + np.log(np.linalg.det(var_j))\n",
    "        except:\n",
    "            print(\"y - A @ x_hat_j\",y - A @ x_hat_j , \"\\n\", var_noise,\"\\n\",y,A)\n",
    "        # print(np.linalg.det(var_j))\n",
    "        x_hat[j] = x_hat_j\n",
    "        cost.append(cost_j)\n",
    "\n",
    "    j = np.argmin(cost)\n",
    "    # print(j)\n",
    "    return x_hat[j]\n",
    "\n",
    "def PSNR(x_, x_t):\n",
    "    assert x_.shape == x_t.shape\n",
    "    peak = np.max(x_) - np.min(x_)\n",
    "    mse = np.mean(((x_ - x_t)/peak)**2, axis=1)\n",
    "    print(type(mse),mse)\n",
    "    psnr = -10*np.log10(mse)\n",
    "    return np.mean(psnr), np.min(psnr), np.max(psnr), np.std(psnr)\n",
    "\n",
    "def plot_data(xs, ys, path = 'PSNR.png', ylabel='Avg PSNR'):\n",
    "    plt.plot(xs, ys, marker=\"o\")\n",
    "    plt.xlabel('# of measurements')\n",
    "    plt.ylabel(ylabel)\n",
    "    plt.grid(True)\n",
    "    for x,y in zip(xs,ys):\n",
    "        label = f\"({x},{round(y,2)})\"\n",
    "        plt.annotate(label, (x,y), textcoords=\"offset points\", xytext=(-5,10), ha='center')\n",
    "#     plt.tight_layout()\n",
    "    plt.savefig(path)\n",
    "    plt.close()"
   ]
  },
  {
   "cell_type": "code",
   "execution_count": 3,
   "id": "87089dc4",
   "metadata": {},
   "outputs": [
    {
     "name": "stdout",
     "output_type": "stream",
     "text": [
      "(50, 60)\n",
      "(28, 60)\n",
      "(58, 60)\n",
      "(68, 60)\n",
      "(18, 60)\n",
      "(26, 60)\n",
      "(34, 60)\n",
      "(46, 60)\n"
     ]
    }
   ],
   "source": [
    "full_data = []\n",
    "time_window = 30*2\n",
    "for experiment_number  in [1,2]:\n",
    "    \n",
    "    for USV_number in [2,3,4,5]:\n",
    "        path = \"CNFUV_Datasets/Datasets/Data_Experiment_%d/pi%d.xlsx\"% (experiment_number, USV_number)\n",
    "        dataframe = pandas.read_excel(path)\n",
    "\n",
    "        dataframe = dataframe.mask(dataframe.eq(\" None\")).dropna()\n",
    "        dataframe = dataframe.mask(dataframe.eq(\"None\")).dropna()\n",
    "        dataframe = dataframe.sort_values(by=['time'])\n",
    "        dataframe = dataframe[['Humidity','Temperature']]\n",
    "        \n",
    "        dataframe = dataframe[:(dataframe.shape[0]//time_window)*time_window]\n",
    "        data = dataframe.to_numpy().flatten()\n",
    "        data = data.reshape(-1,time_window)\n",
    "        print(data.shape)\n",
    "        full_data.extend(data)\n",
    "full_data = np.array(full_data)\n"
   ]
  },
  {
   "cell_type": "code",
   "execution_count": 4,
   "id": "1ec0d420",
   "metadata": {
    "scrolled": true
   },
   "outputs": [
    {
     "name": "stdout",
     "output_type": "stream",
     "text": [
      "(328, 60)\n",
      "328 60 <class 'numpy.ndarray'> <class 'numpy.ndarray'>\n"
     ]
    }
   ],
   "source": [
    "# print(full_data.shape)\n",
    "\n",
    "print(full_data.shape)\n",
    "print(len(full_data),len(full_data[0]), type(full_data),type(full_data[0]))"
   ]
  },
  {
   "cell_type": "code",
   "execution_count": 5,
   "id": "1bee2921",
   "metadata": {},
   "outputs": [],
   "source": [
    "n_train = full_data.shape[0]//10 *9\n",
    "n_test = full_data.shape[0] - n_train\n",
    "n_component_overall = 5\n",
    "cnt = 5\n",
    "n_init = 5\n",
    "patch_size = time_window\n",
    "to_train = 1\n",
    "use_mat = 0"
   ]
  },
  {
   "cell_type": "code",
   "execution_count": 6,
   "id": "fcca740c",
   "metadata": {},
   "outputs": [],
   "source": [
    "np.random.shuffle(data)\n",
    "train_data = full_data[:n_train]\n",
    "test_data = full_data[n_train:]"
   ]
  },
  {
   "cell_type": "code",
   "execution_count": 7,
   "id": "3faa3170",
   "metadata": {},
   "outputs": [
    {
     "name": "stdout",
     "output_type": "stream",
     "text": [
      "288\n",
      "40\n"
     ]
    }
   ],
   "source": [
    "print(len(train_data))\n",
    "\n",
    "print(len(test_data))"
   ]
  },
  {
   "cell_type": "code",
   "execution_count": 8,
   "id": "20d392cb",
   "metadata": {},
   "outputs": [
    {
     "name": "stdout",
     "output_type": "stream",
     "text": [
      "n_component_overall:  8\n"
     ]
    }
   ],
   "source": [
    "folder_name = 'GNFUV_results/latest/'\n",
    "if to_train:\n",
    "#     model = GaussianMixture(n_components=n_components, n_init=n_init, verbose=1, max_iter=200, init_params='random')\n",
    "#     model.fit(train_data)\n",
    "\n",
    "    lowest_bic = np.infty\n",
    "    bic = []\n",
    "    n_components_range = range(1, 10)\n",
    "#     cv_types = [\"spherical\", \"tied\", \"diag\", \"full\"]\n",
    "#     for cv_type in cv_types:\n",
    "    for n_components in n_components_range:\n",
    "        # Fit a Gaussian mixture with EM\n",
    "        gmm = GaussianMixture(\n",
    "            n_components=n_components, n_init=n_init,  max_iter=200,\n",
    "        )\n",
    "        gmm.fit(train_data)\n",
    "        bic.append(gmm.bic(train_data))\n",
    "        if bic[-1] < lowest_bic:\n",
    "            lowest_bic = bic[-1]\n",
    "            best_gmm = gmm\n",
    "            n_component_overall = n_components\n",
    "    model = best_gmm\n",
    "    print(\"n_component_overall: \",n_component_overall)\n",
    "    if os.path.isdir(folder_name):\n",
    "        for f in os.listdir(folder_name):\n",
    "            if not os.path.isdir(folder_name + f):\n",
    "                os.remove(folder_name + f)\n",
    "    else:\n",
    "        os.makedirs(folder_name)\n",
    "\n",
    "    # Save the model as a pickle in a file\n",
    "    joblib.dump(model, folder_name + 'model.pkl')\n",
    "else:\n",
    "    \n",
    "    # Load the model from the file\n",
    "    model = joblib.load(folder_name + 'model.pkl')"
   ]
  },
  {
   "cell_type": "code",
   "execution_count": 9,
   "id": "01ce074b",
   "metadata": {},
   "outputs": [
    {
     "name": "stdout",
     "output_type": "stream",
     "text": [
      "[[ 7.10467228 -0.61764706  6.41695502 ...  2.36851211  1.10986159\n",
      "   2.51557093]\n",
      " [-0.61764706  6.05882453 -0.55882353 ...  4.41176471  1.38235294\n",
      "   4.44117647]\n",
      " [ 6.41695502 -0.55882353  5.92733664 ...  2.31141869  0.93252595\n",
      "   2.45847751]\n",
      " ...\n",
      " [ 2.36851211  4.41176471  2.31141869 ...  6.81661    -1.84948097\n",
      "   6.93425606]\n",
      " [ 1.10986159  1.38235294  0.93252595 ... -1.84948097  7.51297678\n",
      "  -1.84948097]\n",
      " [ 2.51557093  4.44117647  2.45847751 ...  6.93425606 -1.84948097\n",
      "   7.11072764]]\n",
      "3.722618747831842e-183 60\n",
      "[[ 7.37456697  0.95225694  7.07118056 ...  2.05685764  4.82378472\n",
      "   2.05685764]\n",
      " [ 0.95225694  4.53993156  1.05902778 ...  4.79600694  0.40798611\n",
      "   4.79600694]\n",
      " [ 7.07118056  1.05902778  7.36805656 ...  1.84201389  5.10763889\n",
      "   1.84201389]\n",
      " ...\n",
      " [ 2.05685764  4.79600694  1.84201389 ...  6.13498364 -0.01996528\n",
      "   6.13498264]\n",
      " [ 4.82378472  0.40798611  5.10763889 ... -0.01996528  5.74826489\n",
      "  -0.01996528]\n",
      " [ 2.05685764  4.79600694  1.84201389 ...  6.13498264 -0.01996528\n",
      "   6.13498364]]\n",
      "2.3902931115795585e-139 60\n",
      "[[13.16270761 -4.77221074 13.70816116 ... -4.13997934 11.38481405\n",
      "  -4.25826446]\n",
      " [-4.77221074 11.0552696  -5.06766529 ... 10.31766529 -5.59762397\n",
      "  10.11570248]\n",
      " [13.70816116 -5.06766529 14.48088943 ... -4.41270661 12.02117769\n",
      "  -4.55371901]\n",
      " ...\n",
      " [-4.13997934 10.31766529 -4.41270661 ... 11.61725307 -5.47572314\n",
      "  11.37190083]\n",
      " [11.38481405 -5.59762397 12.02117769 ... -5.47572314 12.77014563\n",
      "  -5.59710744]\n",
      " [-4.25826446 10.11570248 -4.55371901 ... 11.37190083 -5.59710744\n",
      "  11.23967042]]\n",
      "1.0232999098257643e-148 60\n",
      "[[ 8.56055463 -0.34775087  7.90484429 ... -1.01903114  0.69377163\n",
      "  -1.17128028]\n",
      " [-0.34775087  3.16263076 -0.57958478 ...  0.82525952 -1.00692042\n",
      "   0.83910035]\n",
      " [ 7.90484429 -0.57958478  7.57180031 ... -1.02681661  0.75432526\n",
      "  -1.15311419]\n",
      " ...\n",
      " [-1.01903114  0.82525952 -1.02681661 ...  5.54757885 -3.4550173\n",
      "   5.72231834]\n",
      " [ 0.69377163 -1.00692042  0.75432526 ... -3.4550173   5.11418785\n",
      "  -3.38927336]\n",
      " [-1.17128028  0.83910035 -1.15311419 ...  5.72231834 -3.38927336\n",
      "   6.05968958]]\n",
      "4.419324720821003e-180 60\n",
      "[[ 8.422401 -1.1248    3.6176   ...  0.4816    1.32      0.632   ]\n",
      " [-1.1248    2.009601 -0.5952   ...  1.2768    1.16      1.016   ]\n",
      " [ 3.6176   -0.5952    2.982401 ...  0.0384    1.32      0.168   ]\n",
      " ...\n",
      " [ 0.4816    1.2768    0.0384   ...  4.854401 -9.48      4.528   ]\n",
      " [ 1.32      1.16      1.32     ... -9.48     34.080001 -9.24    ]\n",
      " [ 0.632     1.016     0.168    ...  4.528    -9.24      4.480001]]\n",
      "3.035912149711813e-220 60\n",
      "[[ 3.46093760e+01 -1.22265625e+01  3.45078125e+01 ...  3.46093750e+00\n",
      "  -1.71875000e+00  3.14843750e+00]\n",
      " [-1.22265625e+01  5.43359475e+00 -1.22304687e+01 ... -6.64062500e-02\n",
      "  -1.56250000e-02  5.85937500e-02]\n",
      " [ 3.45078125e+01 -1.22304687e+01  3.44648447e+01 ...  3.51953125e+00\n",
      "  -2.04687500e+00  3.20703125e+00]\n",
      " ...\n",
      " [ 3.46093750e+00 -6.64062500e-02  3.51953125e+00 ...  3.68359475e+00\n",
      "  -4.95312500e+00  3.68359375e+00]\n",
      " [-1.71875000e+00 -1.56250000e-02 -2.04687500e+00 ... -4.95312500e+00\n",
      "   1.15625010e+01 -5.39062500e+00]\n",
      " [ 3.14843750e+00  5.85937500e-02  3.20703125e+00 ...  3.68359375e+00\n",
      "  -5.39062500e+00  3.80859475e+00]]\n",
      "6.323155801306706e-265 60\n",
      "[[ 4.687501   -1.29326923  4.53365385 ...  0.52884615  2.29807692\n",
      "   0.47115385]\n",
      " [-1.29326923  3.44193887 -1.40717456 ...  2.5510355  -0.32766272\n",
      "   2.49482249]\n",
      " [ 4.53365385 -1.40717456  4.52773769 ...  0.4785503   2.33949704\n",
      "   0.4341716 ]\n",
      " ...\n",
      " [ 0.52884615  2.5510355   0.4785503  ...  4.45710159 -1.28254438\n",
      "   4.46449704]\n",
      " [ 2.29807692 -0.32766272  2.33949704 ... -1.28254438  4.6908294\n",
      "  -1.22189349]\n",
      " [ 0.47115385  2.49482249  0.4341716  ...  4.46449704 -1.22189349\n",
      "   4.58136195]]\n",
      "2.8665991495744184e-121 60\n",
      "[[12.34285814  4.74285714 12.28571429 ...  1.8         3.08571429\n",
      "   1.88571429]\n",
      " [ 4.74285714 11.14285814  5.68571429 ...  1.8         3.28571429\n",
      "   1.74285714]\n",
      " [12.28571429  5.68571429 12.81959284 ...  3.1755102   3.19020408\n",
      "   3.29714286]\n",
      " ...\n",
      " [ 1.8         1.8         3.1755102  ... 16.35918467 -0.30204082\n",
      "  16.45714286]\n",
      " [ 3.08571429  3.28571429  3.19020408 ... -0.30204082 10.57632753\n",
      "  -0.57714286]\n",
      " [ 1.88571429  1.74285714  3.29714286 ... 16.45714286 -0.57714286\n",
      "  16.58285814]]\n",
      "3.0716596320709824e-180 60\n",
      "0.11805555555555555\n",
      "0.16666666666666666\n",
      "0.1527777777777778\n",
      "0.11805555555555555\n",
      "0.08680555555555557\n",
      "0.055555555555555566\n",
      "0.18055555555555555\n",
      "0.12152777777777778\n"
     ]
    }
   ],
   "source": [
    "for var in model.covariances_:\n",
    "    print(var)\n",
    "    print(np.linalg.det(var), np.linalg.matrix_rank(var))\n",
    "    # print(np.linalg.det(np.linalg.inv(var)))\n",
    "for var in model.weights_:\n",
    "    print(var)"
   ]
  },
  {
   "cell_type": "code",
   "execution_count": 10,
   "id": "18bc7bc4",
   "metadata": {},
   "outputs": [
    {
     "name": "stdout",
     "output_type": "stream",
     "text": [
      "[6, 12, 18, 24, 30, 36, 42, 48, 54, 60]\n"
     ]
    },
    {
     "name": "stderr",
     "output_type": "stream",
     "text": [
      "\r",
      "  0%|                                                                                           | 0/10 [00:00<?, ?it/s]"
     ]
    },
    {
     "name": "stdout",
     "output_type": "stream",
     "text": [
      "6 3\n"
     ]
    },
    {
     "name": "stderr",
     "output_type": "stream",
     "text": [
      "\r",
      " 10%|████████▎                                                                          | 1/10 [00:05<00:52,  5.87s/it]"
     ]
    },
    {
     "name": "stdout",
     "output_type": "stream",
     "text": [
      "<class 'numpy.ndarray'> [0.05943633 0.06164759 0.06145993 0.0545819  0.06411843 0.06368714\n",
      " 0.06421423 0.06953521 0.06976634 0.07180853 0.0650719  0.06976634\n",
      " 0.07500517 0.06938706 0.06949403 0.06899333 0.06578688 0.06909357\n",
      " 0.06769975 0.05771983 0.07144044 0.07841374 0.06897233 0.07151395\n",
      " 0.06678969 0.07643636 0.08205911 0.07898442 0.07830492 0.0758238\n",
      " 0.0775187  0.0775187  0.07926076 0.0985144  0.08670807 0.08938718\n",
      " 0.09390713 0.10904565 0.11143253 0.11629982]\n",
      "12 7\n"
     ]
    },
    {
     "name": "stderr",
     "output_type": "stream",
     "text": [
      "\r",
      " 20%|████████████████▌                                                                  | 2/10 [00:11<00:45,  5.70s/it]"
     ]
    },
    {
     "name": "stdout",
     "output_type": "stream",
     "text": [
      "<class 'numpy.ndarray'> [0.0072456  0.00649493 0.00499965 0.00488961 0.00340967 0.00605092\n",
      " 0.00646184 0.00692706 0.00601837 0.00626218 0.00667644 0.00601837\n",
      " 0.01090301 0.00566257 0.00628356 0.00757771 0.00464989 0.00519419\n",
      " 0.00449126 0.00535256 0.00549347 0.00384845 0.008929   0.00635521\n",
      " 0.01330811 0.00602786 0.00720152 0.00729779 0.00678298 0.00932398\n",
      " 0.00605695 0.00605695 0.00611448 0.00049079 0.00031859 0.00041977\n",
      " 0.0009536  0.00029714 0.00098733 0.00028654]\n",
      "18 13\n"
     ]
    },
    {
     "name": "stderr",
     "output_type": "stream",
     "text": [
      "\r",
      " 30%|████████████████████████▉                                                          | 3/10 [00:17<00:39,  5.67s/it]"
     ]
    },
    {
     "name": "stdout",
     "output_type": "stream",
     "text": [
      "<class 'numpy.ndarray'> [2.83061127e-04 1.91684309e-03 1.90278458e-03 3.18676787e-04\n",
      " 3.08018127e-04 4.12230500e-04 1.35303420e-04 2.59972689e-03\n",
      " 2.00459182e-03 2.32004100e-03 4.69210011e-05 2.00459182e-03\n",
      " 1.97689371e-04 2.05580034e-03 2.23895075e-03 1.59756587e-03\n",
      " 4.10302037e-05 1.93084044e-05 1.07220155e-04 1.87941720e-04\n",
      " 2.29791614e-03 2.37647647e-04 2.61572344e-04 1.82787272e-03\n",
      " 4.69492987e-04 3.42046825e-04 1.95551849e-04 2.45937570e-03\n",
      " 2.22536429e-03 2.03174323e-03 2.84040120e-05 2.84040120e-05\n",
      " 1.37840875e-04 7.43316727e-04 2.26155959e-04 4.70352327e-04\n",
      " 3.02607160e-04 3.50616031e-04 4.21254941e-04 4.72538236e-04]\n",
      "24 19\n"
     ]
    },
    {
     "name": "stderr",
     "output_type": "stream",
     "text": [
      "\r",
      " 40%|█████████████████████████████████▏                                                 | 4/10 [00:23<00:35,  5.84s/it]"
     ]
    },
    {
     "name": "stdout",
     "output_type": "stream",
     "text": [
      "<class 'numpy.ndarray'> [5.69150956e-04 1.63671208e-04 7.70513406e-05 4.02714507e-04\n",
      " 2.97036691e-04 4.81396039e-04 1.65674823e-04 1.18906077e-04\n",
      " 7.41276424e-05 1.07055408e-04 7.93306074e-05 7.41276424e-05\n",
      " 1.31725752e-04 5.31379097e-05 7.36781998e-05 2.34154140e-04\n",
      " 4.40353063e-05 2.38221992e-05 1.73819097e-04 4.17155461e-04\n",
      " 1.73139031e-04 2.87859547e-04 2.71525576e-04 1.56443738e-04\n",
      " 4.05947474e-04 6.41885944e-04 3.63944358e-04 1.28776149e-04\n",
      " 5.39664670e-05 1.65750479e-04 2.67251384e-05 2.67251384e-05\n",
      " 2.17885299e-04 4.55073308e-04 2.00715936e-04 3.78461431e-04\n",
      " 1.48985637e-04 2.64077590e-04 2.53010836e-04 1.81495279e-04]\n",
      "30 25\n"
     ]
    },
    {
     "name": "stderr",
     "output_type": "stream",
     "text": [
      "\r",
      " 50%|█████████████████████████████████████████▌                                         | 5/10 [00:29<00:29,  5.94s/it]"
     ]
    },
    {
     "name": "stdout",
     "output_type": "stream",
     "text": [
      "<class 'numpy.ndarray'> [6.05095916e-04 1.79116767e-04 4.35318518e-05 4.96462861e-04\n",
      " 4.24794691e-04 4.02197907e-04 2.56094225e-04 3.23837071e-04\n",
      " 6.16857815e-05 1.25646590e-04 1.95269295e-04 6.16857815e-05\n",
      " 2.28437403e-04 1.54886515e-04 1.06061478e-04 2.64279784e-04\n",
      " 6.87420337e-05 5.01601171e-05 1.64156563e-04 2.79497157e-04\n",
      " 3.29007239e-04 3.32503696e-04 3.11823014e-04 6.64958815e-05\n",
      " 6.53222201e-04 5.64512149e-04 5.60172838e-05 2.64078634e-04\n",
      " 1.63322558e-04 2.53383996e-04 5.74140991e-05 5.74140991e-05\n",
      " 2.13862820e-04 9.99690268e-04 2.69519975e-04 2.81158538e-04\n",
      " 1.50051599e-04 3.58160473e-04 2.76349891e-04 2.10541759e-04]\n",
      "36 31\n"
     ]
    },
    {
     "name": "stderr",
     "output_type": "stream",
     "text": [
      "\r",
      " 60%|█████████████████████████████████████████████████▊                                 | 6/10 [00:35<00:24,  6.15s/it]"
     ]
    },
    {
     "name": "stdout",
     "output_type": "stream",
     "text": [
      "<class 'numpy.ndarray'> [2.42982886e-04 3.06144030e-04 3.09147664e-05 2.00901101e-04\n",
      " 4.28923143e-04 3.97785793e-04 1.93138641e-04 1.72251005e-04\n",
      " 4.41074037e-05 1.23424225e-04 9.06210687e-05 4.41074037e-05\n",
      " 2.25224990e-04 4.74018089e-05 1.41416116e-04 1.02350588e-04\n",
      " 1.29694722e-04 6.01795850e-05 1.93998727e-04 3.61416851e-04\n",
      " 2.24143875e-04 4.13440355e-04 1.71705854e-04 6.91022195e-05\n",
      " 7.67202684e-04 5.99257886e-04 4.85259457e-05 6.92816399e-05\n",
      " 6.31909351e-05 1.43410379e-04 5.20591393e-05 5.20591393e-05\n",
      " 1.62329735e-04 4.84149780e-04 1.59961613e-04 1.63287194e-04\n",
      " 6.36496768e-05 1.93527179e-04 2.00084068e-04 2.39084182e-04]\n",
      "42 37\n"
     ]
    },
    {
     "name": "stderr",
     "output_type": "stream",
     "text": [
      "\r",
      " 70%|██████████████████████████████████████████████████████████                         | 7/10 [00:42<00:19,  6.39s/it]"
     ]
    },
    {
     "name": "stdout",
     "output_type": "stream",
     "text": [
      "<class 'numpy.ndarray'> [4.47276655e-04 1.30363462e-04 1.11429741e-05 2.26355404e-04\n",
      " 4.53404397e-04 6.30083063e-04 2.75633413e-04 7.51040051e-05\n",
      " 1.07387629e-05 6.19096157e-05 8.95352196e-05 1.07387629e-05\n",
      " 2.09243293e-04 8.54843304e-06 1.14655017e-04 7.89411133e-05\n",
      " 1.53075743e-04 8.34609868e-06 6.63666653e-05 1.83454622e-04\n",
      " 3.18933030e-04 6.70175424e-04 9.34682021e-05 8.03547935e-05\n",
      " 1.68267167e-04 5.54090655e-04 2.80535805e-04 1.72239461e-04\n",
      " 7.96121204e-06 1.66390182e-04 7.04336714e-06 7.04336714e-06\n",
      " 2.17635002e-04 5.18101343e-04 3.87656164e-04 2.05340414e-04\n",
      " 1.04562222e-04 2.71216012e-04 3.94523098e-04 5.31559097e-04]\n",
      "48 43\n"
     ]
    },
    {
     "name": "stderr",
     "output_type": "stream",
     "text": [
      "\r",
      " 80%|██████████████████████████████████████████████████████████████████▍                | 8/10 [00:49<00:13,  6.65s/it]"
     ]
    },
    {
     "name": "stdout",
     "output_type": "stream",
     "text": [
      "<class 'numpy.ndarray'> [1.51767400e-04 7.35399196e-05 7.19214074e-08 3.22852172e-04\n",
      " 9.26175176e-04 4.99281417e-04 1.82553549e-04 7.39266540e-05\n",
      " 7.06013891e-08 1.24986178e-04 8.37332776e-05 7.06013891e-08\n",
      " 3.15548010e-04 1.25017129e-07 8.74190886e-05 1.35450377e-04\n",
      " 6.01754491e-05 8.45596165e-07 1.13025486e-04 2.45380931e-04\n",
      " 2.23588725e-04 4.32656572e-04 1.26961431e-04 1.49048922e-04\n",
      " 1.63361132e-04 9.85492108e-04 3.34399066e-04 3.40003420e-04\n",
      " 8.20115725e-08 1.73796048e-04 6.84264065e-07 6.84264065e-07\n",
      " 2.75322402e-04 5.09005365e-04 9.39446270e-05 2.20690858e-04\n",
      " 1.02715258e-04 2.66214079e-04 2.78149943e-04 7.25568340e-04]\n",
      "54 49\n"
     ]
    },
    {
     "name": "stderr",
     "output_type": "stream",
     "text": [
      "\r",
      " 90%|██████████████████████████████████████████████████████████████████████████▋        | 9/10 [00:57<00:06,  6.87s/it]"
     ]
    },
    {
     "name": "stdout",
     "output_type": "stream",
     "text": [
      "<class 'numpy.ndarray'> [1.38696414e-04 1.05218462e-04 1.43702586e-10 3.84384589e-04\n",
      " 6.78797676e-04 4.94146616e-03 4.44813653e-04 1.32325806e-04\n",
      " 1.40530201e-10 6.45642924e-04 1.41890062e-04 1.40530201e-10\n",
      " 5.97335362e-05 9.92729658e-11 4.93670796e-04 1.52379900e-05\n",
      " 1.58149115e-05 4.52492344e-11 4.17017032e-04 5.39428063e-04\n",
      " 5.39752101e-05 4.57230553e-04 1.49508961e-04 5.71865235e-04\n",
      " 6.72437874e-04 5.61706270e-03 1.78223065e-03 1.36482350e-03\n",
      " 9.62015379e-11 6.71120367e-04 4.18639138e-11 4.18639138e-11\n",
      " 1.51152893e-03 5.54589767e-03 5.51839520e-04 5.93119277e-04\n",
      " 2.57153952e-04 1.26594178e-03 7.05577327e-04 2.96448351e-04]\n",
      "60 55\n"
     ]
    },
    {
     "name": "stderr",
     "output_type": "stream",
     "text": [
      "100%|██████████████████████████████████████████████████████████████████████████████████| 10/10 [01:05<00:00,  6.53s/it]"
     ]
    },
    {
     "name": "stdout",
     "output_type": "stream",
     "text": [
      "<class 'numpy.ndarray'> [6.49631635e-05 2.73925537e-06 7.47972004e-12 2.74280643e-05\n",
      " 8.25024444e-05 1.94712390e-04 1.42012323e-05 3.23346039e-05\n",
      " 6.69689020e-12 2.39359954e-06 2.02484005e-05 6.69689020e-12\n",
      " 1.33933276e-05 6.61576050e-12 8.28413076e-06 4.29213213e-07\n",
      " 1.23155079e-06 6.88039648e-12 1.01520942e-05 2.13124416e-05\n",
      " 2.08283233e-05 3.81216482e-05 9.88277676e-06 6.45759100e-06\n",
      " 6.86876844e-05 4.95515877e-04 1.06324013e-06 7.00667962e-06\n",
      " 5.86112790e-12 7.93156165e-06 6.07190058e-12 6.07190058e-12\n",
      " 1.95343581e-05 1.17993159e-04 3.40502585e-05 1.92036401e-04\n",
      " 5.49972860e-05 9.89312525e-05 1.81874216e-05 1.05657725e-04]\n"
     ]
    },
    {
     "name": "stderr",
     "output_type": "stream",
     "text": [
      "\n"
     ]
    }
   ],
   "source": [
    "d = patch_size\n",
    "A_ = np.random.binomial(1, 0.5, size=(d, d))\n",
    "\n",
    "ms = [d*(i+1)//10 for i in range(10)]\n",
    "print(ms)\n",
    "psnr, psnr_min, psnr_max, psnr_std = [], [], [], []\n",
    "val_err, err_std = [], []\n",
    "\n",
    "for m in tqdm(ms):\n",
    "    if use_mat:\n",
    "        A = np.load(folder_name + 'mat/%d.npy' % m)\n",
    "    else:\n",
    "        A = A_[:m, :]\n",
    "    mm = m-min(m//2,5)\n",
    "    print(m,mm)\n",
    "    reconstruction = np.empty(test_data.shape)\n",
    "    patch_err = []\n",
    "    cnt1 = cnt\n",
    "    for j in range(len(test_data)):\n",
    "        x = test_data[j]\n",
    "        x_hat = np.zeros(x.shape)\n",
    "        for i in range(x.shape[0]//d):\n",
    "            y = A @ x[i*d:(i+1)*d]\n",
    "            x_hat[i*d:(i+1)*d] = decode(model, A[:mm], y[:mm])\n",
    "            patch_err.append(100*np.mean(np.square(y[mm:] - A[mm:] @ x_hat[i*d:(i+1)*d])))\n",
    "        # cs example\n",
    "        if cnt1 > 0:\n",
    "            plt.plot(x, label='Original', color='C0')\n",
    "            plt.plot(x_hat, label='Reconstructed', color='C1')\n",
    "            # plt.plot(x[:20], label='Original', color='C0')\n",
    "            # plt.plot(x[20:40], label='Original', color='C0')\n",
    "            # plt.plot(x[40:], label='Original', color='C0')\n",
    "            # plt.plot(x_hat[:20], label='Reconstructed', color='C1')\n",
    "            # plt.plot(x_hat[20:40], label='Reconstructed', color='C1')\n",
    "            # plt.plot(x_hat[40:], label='Reconstructed', color='C1')\n",
    "            plt.legend()\n",
    "            plt.savefig(folder_name + 'cs_%d_%d.png' % (cnt1, mm))\n",
    "            plt.close()\n",
    "            cnt1 -= 1\n",
    "        reconstruction[j] = x_hat\n",
    "    val, min_val, max_val, std_val = PSNR(test_data.astype(float), reconstruction.astype(float))\n",
    "    psnr.append(val)\n",
    "    psnr_min.append(min_val)\n",
    "    psnr_max.append(max_val)\n",
    "    psnr_std.append(std_val)\n",
    "    val_err.append(np.mean(patch_err))\n",
    "    err_std.append(np.std(patch_err))\n",
    "\n"
   ]
  },
  {
   "cell_type": "code",
   "execution_count": 11,
   "id": "7a5e3cd3",
   "metadata": {},
   "outputs": [
    {
     "name": "stdout",
     "output_type": "stream",
     "text": [
      "[11.306942021473528, 23.996076735150165, 33.64939892826728, 38.02634774153701, 37.09530272904833, 38.40331225500031, 39.61238071973425, 42.92506224347905, 47.26798296875737, 59.98264561238015]\n",
      "[0.7437301876568868, 4.478661940325201, 6.081716566506871, 3.6932421705823804, 3.4400416436524432, 3.4857304255832013, 6.129178784359185, 12.687607472197145, 27.361254832849703, 26.66036756708394]\n",
      "[15444.87333576431, 2293.1688578503076, 1090.6051679128673, 201.1983035343885, 333.4051567241114, 338.53878304297325, 198.78607996085793, 192.8423254075995, 913.5616358559506, 38.28439230108501]\n",
      "[4729.975519380865, 1754.4410549731938, 1223.4457577742958, 182.2448327709469, 267.6442085595529, 377.15604255147394, 313.2828615127684, 233.44206033179012, 1814.9048709355286, 108.03003587336893]\n"
     ]
    }
   ],
   "source": [
    "print(psnr)\n",
    "# print(psnr_min)\n",
    "# print(psnr_max)\n",
    "print(psnr_std)\n",
    "print(val_err)\n",
    "print(err_std)\n",
    "plot_data([x//5*4 for x in ms], psnr, path=folder_name + 'psnr.png')\n",
    "plot_data([x//5*4 for x in ms], val_err, path=folder_name + 'val_err.png', ylabel='Validation error (1e-2)')"
   ]
  },
  {
   "cell_type": "code",
   "execution_count": 12,
   "id": "4556400a",
   "metadata": {},
   "outputs": [
    {
     "name": "stdout",
     "output_type": "stream",
     "text": [
      "13432.638597549409\n"
     ]
    }
   ],
   "source": [
    "for ii in range(len(test_data)):\n",
    "    avg_cost = 0\n",
    "    x = test_data[i]\n",
    "    cost = []\n",
    "    for j in range(model.means_.shape[0]):\n",
    "        var_j, mu_j = model.covariances_[j], model.means_[j]\n",
    "        cost_j = weighted_l2(x - mu_j, var_j) + np.log(np.linalg.det(var_j))\n",
    "        cost.append(cost_j)\n",
    "    k = np.argmin(cost)\n",
    "    avg_cost += cost[k]\n",
    "avg_cost /= len(test_data)\n",
    "print(avg_cost)"
   ]
  },
  {
   "cell_type": "code",
   "execution_count": null,
   "id": "1531b492",
   "metadata": {},
   "outputs": [],
   "source": [
    "    "
   ]
  }
 ],
 "metadata": {
  "kernelspec": {
   "display_name": "Python 3 (ipykernel)",
   "language": "python",
   "name": "python3"
  },
  "language_info": {
   "codemirror_mode": {
    "name": "ipython",
    "version": 3
   },
   "file_extension": ".py",
   "mimetype": "text/x-python",
   "name": "python",
   "nbconvert_exporter": "python",
   "pygments_lexer": "ipython3",
   "version": "3.9.7"
  }
 },
 "nbformat": 4,
 "nbformat_minor": 5
}
